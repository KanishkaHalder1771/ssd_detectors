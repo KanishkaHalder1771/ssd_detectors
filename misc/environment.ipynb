{
 "cells": [
  {
   "cell_type": "code",
   "execution_count": 3,
   "metadata": {},
   "outputs": [
    {
     "name": "stdout",
     "output_type": "stream",
     "text": [
      "OS               Ubuntu 18.04 bionic\n",
      "jupyter-notebook 6.0.0\n",
      "Python           3.6.8\n",
      "NumPy            1.17.2\n",
      "Pandas           0.25.0\n",
      "Matplotlib       3.1.1\n",
      "OpenCV           3.2.0\n",
      "TensorFlow       2.0.0-beta1\n",
      "Keras            2.2.4-tf\n",
      "tqdm             4.32.2\n",
      "imageio          2.6.1\n",
      "GPU 0: Tesla V100-PCIE-32GB (UUID: GPU-d5657c70-5d7c-b8d0-e69f-84fb0310c998)\n",
      "GPU 1: GeForce GTX 1060 6GB (UUID: GPU-97df665f-d79f-d5a2-d242-f0a8299e5838)\n"
     ]
    }
   ],
   "source": [
    "import platform\n",
    "import numpy as np\n",
    "import pandas as pd\n",
    "import matplotlib\n",
    "import cv2\n",
    "import tensorflow as tf\n",
    "import tensorflow.keras as keras\n",
    "import tqdm\n",
    "import imageio\n",
    "\n",
    "print('%-16s %s' % ('OS', ' '.join(platform.dist())))\n",
    "notebook_version = !jupyter-notebook --version\n",
    "print('%-12s %s' % ('jupyter-notebook', notebook_version[0]))\n",
    "print('%-16s %s' % ('Python', platform.python_version()))\n",
    "print('%-16s %s' % ('NumPy', np.__version__))\n",
    "print('%-16s %s' % ('Pandas', pd.__version__))\n",
    "print('%-16s %s' % ('Matplotlib', matplotlib.__version__))\n",
    "print('%-16s %s' % ('OpenCV', cv2.__version__))\n",
    "print('%-16s %s' % ('TensorFlow', tf.__version__))\n",
    "print('%-16s %s' % ('Keras', keras.__version__))\n",
    "print('%-16s %s' % ('tqdm', tqdm.__version__))\n",
    "print('%-16s %s' % ('imageio', imageio.__version__))\n",
    "\n",
    "!nvidia-smi -L"
   ]
  },
  {
   "cell_type": "code",
   "execution_count": null,
   "metadata": {},
   "outputs": [],
   "source": []
  }
 ],
 "metadata": {
  "kernelspec": {
   "display_name": "Python 3",
   "language": "python",
   "name": "python3"
  },
  "language_info": {
   "codemirror_mode": {
    "name": "ipython",
    "version": 3
   },
   "file_extension": ".py",
   "mimetype": "text/x-python",
   "name": "python",
   "nbconvert_exporter": "python",
   "pygments_lexer": "ipython3",
   "version": "3.6.8"
  }
 },
 "nbformat": 4,
 "nbformat_minor": 2
}
