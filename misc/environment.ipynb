{
 "cells": [
  {
   "cell_type": "code",
   "execution_count": 1,
   "metadata": {},
   "outputs": [
    {
     "name": "stdout",
     "output_type": "stream",
     "text": [
      "\n",
      "NAME=\"Ubuntu\"\n",
      "VERSION=\"18.04.3 LTS (Bionic Beaver)\"\n",
      "\n",
      "GPU 0: Tesla V100-PCIE-32GB (UUID: GPU-d5657c70-5d7c-b8d0-e69f-84fb0310c998)\n",
      "GPU 1: GeForce GTX 1060 6GB (UUID: GPU-97df665f-d79f-d5a2-d242-f0a8299e5838)\n",
      "\n",
      "Python           3.7.5\n",
      "Notebook         6.0.3\n",
      "NumPy            1.18.2\n",
      "Pandas           0.25.3\n",
      "Matplotlib       3.1.2\n",
      "OpenCV           4.1.2\n",
      "TensorFlow       2.2.0\n",
      "Keras            2.3.0-tf\n",
      "tqdm             4.45.0\n",
      "imageio          2.6.1\n"
     ]
    }
   ],
   "source": [
    "import platform\n",
    "import numpy as np\n",
    "import pandas as pd\n",
    "import matplotlib\n",
    "import notebook\n",
    "import cv2\n",
    "import tensorflow as tf\n",
    "import tensorflow.keras as keras\n",
    "import tqdm\n",
    "import imageio\n",
    "\n",
    "print()\n",
    "!head -2 /etc/os-release\n",
    "print()\n",
    "!nvidia-smi -L\n",
    "print()\n",
    "print('%-16s %s' % ('Python', platform.python_version()))\n",
    "print('%-16s %s' % ('Notebook', notebook.__version__))\n",
    "print('%-16s %s' % ('NumPy', np.__version__))\n",
    "print('%-16s %s' % ('Pandas', pd.__version__))\n",
    "print('%-16s %s' % ('Matplotlib', matplotlib.__version__))\n",
    "print('%-16s %s' % ('OpenCV', cv2.__version__))\n",
    "print('%-16s %s' % ('TensorFlow', tf.__version__))\n",
    "print('%-16s %s' % ('Keras', keras.__version__))\n",
    "print('%-16s %s' % ('tqdm', tqdm.__version__))\n",
    "print('%-16s %s' % ('imageio', imageio.__version__))"
   ]
  },
  {
   "cell_type": "code",
   "execution_count": null,
   "metadata": {},
   "outputs": [],
   "source": []
  },
  {
   "cell_type": "code",
   "execution_count": null,
   "metadata": {},
   "outputs": [],
   "source": []
  }
 ],
 "metadata": {
  "kernelspec": {
   "display_name": "Python 3",
   "language": "python",
   "name": "python3"
  },
  "language_info": {
   "codemirror_mode": {
    "name": "ipython",
    "version": 3
   },
   "file_extension": ".py",
   "mimetype": "text/x-python",
   "name": "python",
   "nbconvert_exporter": "python",
   "pygments_lexer": "ipython3",
   "version": "3.7.5"
  }
 },
 "nbformat": 4,
 "nbformat_minor": 2
}
